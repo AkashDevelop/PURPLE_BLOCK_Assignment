{
  "nbformat": 4,
  "nbformat_minor": 0,
  "metadata": {
    "colab": {
      "provenance": []
    },
    "kernelspec": {
      "name": "python3",
      "display_name": "Python 3"
    },
    "language_info": {
      "name": "python"
    }
  },
  "cells": [
    {
      "cell_type": "markdown",
      "source": [
        "**if this a list of prices [5,2,1,6,9,7] and you have to create a function which will give me the best buy prices and the best sell prices ( 1 and 9) to maximise my profit**"
      ],
      "metadata": {
        "id": "W1m0TNDdi8Rz"
      }
    },
    {
      "cell_type": "code",
      "execution_count": 4,
      "metadata": {
        "colab": {
          "base_uri": "https://localhost:8080/"
        },
        "id": "KoAEGvYedfdm",
        "outputId": "7bce5637-3c49-4244-8926-e28efaec2a61"
      },
      "outputs": [
        {
          "output_type": "stream",
          "name": "stdout",
          "text": [
            "Best Buy Price: 1\n",
            "Best Sell Price: 9\n",
            "Maximum Profit: 8\n"
          ]
        }
      ],
      "source": [
        "def best_trade(prices):\n",
        "# Check if prices list is not empty\n",
        "    if not prices:\n",
        "        return None, None\n",
        "\n",
        "    min_price = prices[0]\n",
        "    best_buy = prices[0]\n",
        "    best_sell = prices[0]\n",
        "    max_profit = 0\n",
        "\n",
        "    for price in prices[1:]:\n",
        "        profit = price - min_price\n",
        "\n",
        "# If this profit is greater than the current max profit\n",
        "        if profit > max_profit:\n",
        "            max_profit = profit\n",
        "            best_buy = min_price\n",
        "            best_sell = price\n",
        "\n",
        "# Update min_price if the current price is lower\n",
        "        if price < min_price:\n",
        "            min_price = price\n",
        "\n",
        "    return best_buy, best_sell\n",
        "\n",
        "# Testing the function\n",
        "prices = [5, 2, 1, 6, 9, 7]\n",
        "buy_price, sell_price = best_trade(prices)\n",
        "print(\"Best Buy Price:\", buy_price)\n",
        "print(\"Best Sell Price:\", sell_price)\n",
        "print(\"Maximum Profit:\", sell_price - buy_price)\n",
        "\n"
      ]
    }
  ]
}